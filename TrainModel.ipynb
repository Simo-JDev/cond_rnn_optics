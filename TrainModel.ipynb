{
 "cells": [
  {
   "cell_type": "markdown",
   "id": "6b5164d7",
   "metadata": {},
   "source": [
    "# Training a conditional recurrent neural network for pulse propagation\n",
    "This notebook shows how to train a conditional recurrent LSTM network "
   ]
  },
  {
   "cell_type": "markdown",
   "id": "f3a4ce5c",
   "metadata": {},
   "source": [
    "#### Import relevant modules"
   ]
  },
  {
   "cell_type": "code",
   "execution_count": 6,
   "id": "81227fbb",
   "metadata": {},
   "outputs": [],
   "source": [
    "import tensorflow as tf\n",
    "from cond_rnn import ConditionalRecurrent\n",
    "import matplotlib.pyplot as plt"
   ]
  },
  {
   "cell_type": "markdown",
   "id": "d065ba02",
   "metadata": {},
   "source": [
    "#### Define the model name and load it\n",
    "It's important to define the custom layer when loading the saved model that include a ConditionalRecurrent layer"
   ]
  },
  {
   "cell_type": "code",
   "execution_count": 9,
   "id": "b2d29e5d",
   "metadata": {},
   "outputs": [],
   "source": [
    "clean_model_name = 'cond_LSTM.h5'\n",
    "model = tf.keras.models.load_model(clean_model_name, custom_objects={'ConditionalRecurrent': ConditionalRecurrent})"
   ]
  },
  {
   "cell_type": "markdown",
   "id": "3b0d5d96",
   "metadata": {},
   "source": [
    "#### Define the training and testing datasets\n",
    "This part depends on how your data is saved, and what represent you condition, so it's left blank here.\n",
    "However, the idea behind the data prep is the following.\n",
    "\n",
    "Each prediction of the network takes as input the sequence and the condition, and output one single prediction. The sequence is a number of individual sequential observations, with shape `train_x = [None, sequence_length, n_features]`. `sequence_length` is the number of the sequential observations that make the input sequence, while `n_features` is the number of points in a single observation. For each of the input sequences, we need to define a condition at that step, with shape `train_c = [None, cond_features]`, where `cond_features` is the number of points within a single condition. Finally, the output for these two inputs is a single observation at the next step, with shape `train_y = [None, n_features]`.\n",
    "This can be applied similarly for more conditions, with the same logic."
   ]
  },
  {
   "cell_type": "code",
   "execution_count": null,
   "id": "4ab4f45f",
   "metadata": {},
   "outputs": [],
   "source": [
    "# Test\n",
    "train_x = []\n",
    "train_c = []\n",
    "train_y = []\n",
    "\n",
    "# Train\n",
    "test_x = []\n",
    "test_c = []\n",
    "test_y = []"
   ]
  },
  {
   "cell_type": "markdown",
   "id": "9466a326",
   "metadata": {},
   "source": [
    "#### Define the training parameters"
   ]
  },
  {
   "cell_type": "code",
   "execution_count": null,
   "id": "6ec3dcc2",
   "metadata": {},
   "outputs": [],
   "source": [
    "# Batch size\n",
    "b_size = 150\n",
    "# Number of epochs\n",
    "n_epochs = 200"
   ]
  },
  {
   "cell_type": "markdown",
   "id": "894314ef",
   "metadata": {},
   "source": [
    "#### Train the model"
   ]
  },
  {
   "cell_type": "code",
   "execution_count": null,
   "id": "40a7aa3e",
   "metadata": {},
   "outputs": [],
   "source": [
    "# Train\n",
    "history = model.fit(\n",
    "        verbose=1,\n",
    "        x=[train_x, train_c], y=train_y,\n",
    "    batch_size=b_size,\n",
    "        validation_data=([test_x, test_c], test_y),\n",
    "        epochs= n_epochs\n",
    "    )\n",
    "\n",
    "# Plot training\n",
    "plt.plot(history.history['loss'], label='train')\n",
    "plt.plot(history.history['val_loss'], label='test')\n",
    "plt.legend()\n",
    "plt.show()"
   ]
  }
 ],
 "metadata": {
  "kernelspec": {
   "display_name": "Python 3 (ipykernel)",
   "language": "python",
   "name": "python3"
  },
  "language_info": {
   "codemirror_mode": {
    "name": "ipython",
    "version": 3
   },
   "file_extension": ".py",
   "mimetype": "text/x-python",
   "name": "python",
   "nbconvert_exporter": "python",
   "pygments_lexer": "ipython3",
   "version": "3.8.13"
  }
 },
 "nbformat": 4,
 "nbformat_minor": 5
}
